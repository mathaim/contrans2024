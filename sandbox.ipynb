{
 "cells": [
  {
   "cell_type": "code",
   "execution_count": 6,
   "metadata": {},
   "outputs": [
    {
     "ename": "SyntaxError",
     "evalue": "invalid syntax (contrans.py, line 273)",
     "output_type": "error",
     "traceback": [
      "Traceback \u001b[0;36m(most recent call last)\u001b[0m:\n",
      "\u001b[0m  File \u001b[1;32m~/pipenv_2/contrans_venv_3_12_5_92324/lib/python3.12/site-packages/IPython/core/interactiveshell.py:3577\u001b[0m in \u001b[1;35mrun_code\u001b[0m\n    exec(code_obj, self.user_global_ns, self.user_ns)\u001b[0m\n",
      "\u001b[0;36m  Cell \u001b[0;32mIn[6], line 1\u001b[0;36m\n\u001b[0;31m    from contrans import contrans\u001b[0;36m\n",
      "\u001b[0;36m  File \u001b[0;32m~/Documents/data engineering 1/contrans2024/contrans.py:273\u001b[0;36m\u001b[0m\n\u001b[0;31m    bill_list=self.\u001b[0m\n\u001b[0m                   ^\u001b[0m\n\u001b[0;31mSyntaxError\u001b[0m\u001b[0;31m:\u001b[0m invalid syntax\n"
     ]
    }
   ],
   "source": [
    "from contrans import contrans\n",
    "import numpy as np\n",
    "import pandas as pd\n",
    "import requests\n",
    "import dotenv\n",
    "import os\n",
    "import json\n",
    "import requests\n",
    "import psycopg\n",
    "import sqlite3\n",
    "from sqlalchemy import create_engine\n",
    "from bs4 import BeautifulSoup\n",
    "\n",
    "\n",
    "dotenv.load_dotenv()\n",
    "congresskey= os.getenv(\"congresskey\")\n",
    "postgrespassword= os.getenv(\"POSTGRES_PASSWORD\")"
   ]
  },
  {
   "cell_type": "code",
   "execution_count": null,
   "metadata": {},
   "outputs": [],
   "source": [
    "ct = contrans()\n",
    "ct.mypassword\n",
    "ct.POSTGRES_PASSWORD"
   ]
  },
  {
   "cell_type": "code",
   "execution_count": null,
   "metadata": {},
   "outputs": [],
   "source": [
    "useragent = ct.get_useragent()\n",
    "useragent\n"
   ]
  },
  {
   "cell_type": "code",
   "execution_count": null,
   "metadata": {},
   "outputs": [],
   "source": [
    "dbserver, engine = ct.connect_to_postgres(ct.POSTGRES_PASSWORD, create_contrans = True)"
   ]
  },
  {
   "cell_type": "code",
   "execution_count": null,
   "metadata": {},
   "outputs": [],
   "source": [
    "members = ct.get_bioguideIDs()\n",
    "members = ct.make_cand_table()\n",
    "terms, members = ct.terms_df(members)\n",
    "ideology = ct.get_ideology()\n",
    "ct.make_members_df(members, ideology, engine)"
   ]
  },
  {
   "cell_type": "code",
   "execution_count": null,
   "metadata": {},
   "outputs": [],
   "source": [
    "ct.make_terms_df(terms,engine)"
   ]
  },
  {
   "cell_type": "code",
   "execution_count": null,
   "metadata": {},
   "outputs": [],
   "source": [
    "votes=ct.get_votes()\n",
    "ct.make_votes_df(votes, engine)"
   ]
  },
  {
   "cell_type": "code",
   "execution_count": null,
   "metadata": {},
   "outputs": [],
   "source": [
    "myquery = '''\n",
    "SELECT \n",
    "bioguideid FROM members\n",
    "'''\n",
    "pd.read_sql_query(myquery, con = engine)"
   ]
  },
  {
   "cell_type": "code",
   "execution_count": null,
   "metadata": {},
   "outputs": [],
   "source": [
    "myquery = '''\n",
    "SELECT * FROM members\n",
    "'''\n",
    "data = pd.read_sql_query(myquery, con = engine)\n",
    "print(ct.dbml_helper(data))"
   ]
  },
  {
   "cell_type": "code",
   "execution_count": null,
   "metadata": {},
   "outputs": [],
   "source": [
    "myquery = '''\n",
    "SELECT * FROM votes\n",
    "'''\n",
    "data = pd.read_sql_query(myquery, con = engine)\n",
    "print(ct.dbml_helper(data))"
   ]
  },
  {
   "cell_type": "code",
   "execution_count": null,
   "metadata": {},
   "outputs": [],
   "source": [
    "myquery = '''\n",
    "\n",
    "SELECT * FROM members \n",
    "WHERE state = 'VA'\n",
    "'''\n",
    "pd.read_sql_query(myquery, con =engine)\n"
   ]
  },
  {
   "cell_type": "code",
   "execution_count": null,
   "metadata": {},
   "outputs": [],
   "source": [
    "myquery = '''\n",
    "\n",
    "SELECT \n",
    "    name AS congressperson,\n",
    "    partyname AS party,\n",
    "    state   AS us_state,\n",
    "    district AS congressional_district\n",
    "FROM members \n",
    "WHERE partyname = 'Democratic'\n",
    "ORDER BY congressperson DESC\n",
    "LIMIT 10\n",
    "'''\n",
    "pd.read_sql_query(myquery, con =engine)\n"
   ]
  },
  {
   "cell_type": "code",
   "execution_count": null,
   "metadata": {},
   "outputs": [],
   "source": [
    "# create voting affinity table\n",
    "myquery = '''\n",
    "with member_14854 as (\n",
    "SELECT \n",
    "    a.icpsr AS icpsr1,\n",
    "    b.icpsr AS icpsr2,\n",
    "    AVG(CASE WHEN (a.cast_code = b.cast_code) THEN 1 ELSE 0 END) AS agree\n",
    "FROM votes a\n",
    "INNER JOIN votes b \n",
    "    ON a.chamber = b.chamber\n",
    "    AND a.rollnumber = b.rollnumber\n",
    "WHERE a.icpsr = 14854 AND b.icpsr != 14854\n",
    "GROUP BY icpsr2, icpsr1\n",
    "ORDER BY agree DESC\n",
    "), members_info as (\n",
    "SELECT\n",
    "    name,\n",
    "    partyname,\n",
    "    state,\n",
    "    district,\n",
    "    CAST(icpsr AS INT) AS icpsr\n",
    "FROM members)\n",
    "SELECT \n",
    "    m.name,\n",
    "    m.partyname,\n",
    "    m.state,\n",
    "    m.district,\n",
    "    m.icpsr,\n",
    "    v.agree\n",
    "FROM member_14854 v\n",
    "INNER JOIN members_info m\n",
    "    ON v.icpsr2 = m.icpsr\n",
    "WHERE m.icpsr IS NOT NULL\n",
    "ORDER BY agree DESC\n",
    "\n",
    "'''\n",
    "pd.read_sql_query(myquery, con =engine)"
   ]
  },
  {
   "cell_type": "code",
   "execution_count": null,
   "metadata": {},
   "outputs": [],
   "source": [
    "import pymongo\n",
    "\n",
    "MONGO_INITDB_ROOT_USERNAME=os.getenv(\"MONGO_INITDB_ROOT_USERNAME\")\n",
    "MONGO_INITDB_ROOT_PASSWORD=os.getenv(\"MONGO_INITDB_ROOT_PASSWORD\")\n",
    " "
   ]
  },
  {
   "cell_type": "code",
   "execution_count": null,
   "metadata": {},
   "outputs": [],
   "source": [
    "myclient.list_database_names()\n",
    "\n",
    "#myclient is the Mongo server\n",
    "mongo_contrans=myclient['contrans']\n",
    "#create a database\n",
    "mongo_bills = mongo_contrans['bills']"
   ]
  },
  {
   "cell_type": "code",
   "execution_count": null,
   "metadata": {},
   "outputs": [],
   "source": [
    "# Create JSON/Dictionary records to store in the collection\n",
    "myquery = '''\n",
    "SELECT \n",
    "bioguideId\n",
    "FROM members\n",
    "'''\n",
    "bioguides =pd.read_sql_query(myquery, con =engine)['bioguideid'].tolist()"
   ]
  },
  {
   "cell_type": "code",
   "execution_count": null,
   "metadata": {},
   "outputs": [],
   "source": [
    "headers=ct.make_headers()\n",
    "headers"
   ]
  },
  {
   "cell_type": "code",
   "execution_count": null,
   "metadata": {},
   "outputs": [],
   "source": [
    "bill_list = ct.get_sponsoredlegislation(bioguides[0])\n",
    "#onebill = ct.get_billdata(bill_list[0]['url']) \n",
    "allbills = [ct.get_billdata(x['url']) for x in bill_list]\n",
    "allbills"
   ]
  },
  {
   "cell_type": "code",
   "execution_count": null,
   "metadata": {},
   "outputs": [],
   "source": [
    "mongo_bills.insert_many(allbills)"
   ]
  },
  {
   "cell_type": "code",
   "execution_count": null,
   "metadata": {},
   "outputs": [],
   "source": [
    "myclient.list_database_names()"
   ]
  },
  {
   "cell_type": "code",
   "execution_count": null,
   "metadata": {},
   "outputs": [],
   "source": [
    "ideology = ct.get_ideology()\n",
    "ideology"
   ]
  },
  {
   "cell_type": "code",
   "execution_count": null,
   "metadata": {},
   "outputs": [],
   "source": [
    "#indcontrib = pd.read_csv('data/CampaignFin22/indivs22.txt', quotechar=\"|\", header=None)\n",
    "#indcontrib"
   ]
  },
  {
   "cell_type": "code",
   "execution_count": null,
   "metadata": {},
   "outputs": [],
   "source": [
    "members['terms.item']\n"
   ]
  },
  {
   "cell_type": "code",
   "execution_count": null,
   "metadata": {},
   "outputs": [],
   "source": [
    "terms,members = ct.terms_df(members)"
   ]
  },
  {
   "cell_type": "code",
   "execution_count": null,
   "metadata": {},
   "outputs": [],
   "source": [
    "members"
   ]
  },
  {
   "cell_type": "code",
   "execution_count": null,
   "metadata": {},
   "outputs": [],
   "source": [
    "replace_map = {'Republican': 'R',\n",
    "                'Democratic': 'D', \n",
    "                'Independent': 'I'}\n",
    "\n",
    "members['partyletter']= members['partyName'].replace(replace_map)\n",
    "members"
   ]
  },
  {
   "cell_type": "code",
   "execution_count": null,
   "metadata": {},
   "outputs": [],
   "source": []
  },
  {
   "cell_type": "code",
   "execution_count": null,
   "metadata": {},
   "outputs": [],
   "source": [
    "members['lastname'] = [x.split(',')[0] for x in members['name']]\n",
    "members['firstname'] = [x.split(',')[1] for x in members['name']]\n",
    "members['name2']= [x +' '+y + ' (' +z + ')' for x,y,z in \n",
    "                   zip(members['firstname'], members['lastname'], members['partyletter'])]\n",
    "members"
   ]
  },
  {
   "cell_type": "code",
   "execution_count": null,
   "metadata": {},
   "outputs": [],
   "source": [
    "crosswalk = pd.merge(members, cands, left_on='name2',\n",
    "                     right_on='FirstLastP', \n",
    "                     how='outer', \n",
    "                     indicator= 'matched',\n",
    "                     validate='one_to_one')\n",
    "\n",
    "crosswalk"
   ]
  },
  {
   "cell_type": "code",
   "execution_count": null,
   "metadata": {},
   "outputs": [],
   "source": [
    "members"
   ]
  },
  {
   "cell_type": "code",
   "execution_count": null,
   "metadata": {},
   "outputs": [],
   "source": [
    "# What are we matching on?\n",
    "\n",
    "# What kind of merge is this? One to one?\n",
    "\n",
    "#"
   ]
  },
  {
   "cell_type": "code",
   "execution_count": null,
   "metadata": {},
   "outputs": [],
   "source": []
  },
  {
   "cell_type": "code",
   "execution_count": null,
   "metadata": {},
   "outputs": [],
   "source": [
    "print(ct.get_bioguideIDs)\n"
   ]
  },
  {
   "cell_type": "code",
   "execution_count": null,
   "metadata": {},
   "outputs": [],
   "source": [
    "goodbioguide = ct.get_bioguide(name = 'good', state = 'Virginia', district = 5)\n",
    "goodbioguide"
   ]
  },
  {
   "cell_type": "code",
   "execution_count": null,
   "metadata": {},
   "outputs": [],
   "source": [
    "goodbioguide['bioguideId'].reset_index()"
   ]
  },
  {
   "cell_type": "code",
   "execution_count": null,
   "metadata": {},
   "outputs": [],
   "source": [
    "goodid = goodbioguide['bioguideId'].reset_index()['bioguideId'][0]"
   ]
  },
  {
   "cell_type": "code",
   "execution_count": null,
   "metadata": {},
   "outputs": [],
   "source": [
    "goodid"
   ]
  },
  {
   "cell_type": "code",
   "execution_count": null,
   "metadata": {},
   "outputs": [],
   "source": [
    "#Sponsored legislation\n",
    "goodsbills = ct.get_sponsoredlegislation(goodid)\n"
   ]
  },
  {
   "cell_type": "code",
   "execution_count": null,
   "metadata": {},
   "outputs": [],
   "source": [
    "r = requests.get(goodsbills[0]['url'],\n",
    "                 params = {'api_key':congresskey}) #goodsbills[0]['url']\n",
    "\n",
    "texturl = json.loads(r.text)['bill']['textVersions']['url']\n",
    "\n",
    "\n",
    "r = requests.get(texturl,\n",
    "                 params= {'api_key':congresskey})\n",
    "json.loads(r.text)['textVersions'][0]['formats'][0]['url']\n",
    "\n",
    "toscrape = json.loads(r.text)['textVersions'][0]['formats'][0]['url']"
   ]
  },
  {
   "cell_type": "code",
   "execution_count": null,
   "metadata": {},
   "outputs": [],
   "source": [
    "from bs4 import BeautifulSoup\n",
    "\n",
    "r = requests.get(toscrape)\n",
    "mysoup = BeautifulSoup(r.text, 'html.parser') #equivalent of json.loads, allows you to search through a string\n",
    "billtext = mysoup.text"
   ]
  },
  {
   "cell_type": "code",
   "execution_count": null,
   "metadata": {},
   "outputs": [],
   "source": [
    "billurl = goodsbills[0]['url']"
   ]
  },
  {
   "cell_type": "code",
   "execution_count": null,
   "metadata": {},
   "outputs": [],
   "source": [
    "ct.get_billdata(billurl)"
   ]
  },
  {
   "cell_type": "code",
   "execution_count": null,
   "metadata": {},
   "outputs": [],
   "source": [
    "print(mysoup.text)"
   ]
  },
  {
   "cell_type": "code",
   "execution_count": null,
   "metadata": {},
   "outputs": [],
   "source": []
  },
  {
   "cell_type": "code",
   "execution_count": null,
   "metadata": {},
   "outputs": [],
   "source": [
    "votes = ct.get_votes()\n",
    "votes"
   ]
  },
  {
   "cell_type": "code",
   "execution_count": null,
   "metadata": {},
   "outputs": [],
   "source": [
    "house = house(['rollnumber', 'icpsr','cast_code'])"
   ]
  },
  {
   "cell_type": "code",
   "execution_count": null,
   "metadata": {},
   "outputs": [],
   "source": [
    "house_mat = pd.merge(house, house on = 'rollnumber')\n",
    "house_mat"
   ]
  },
  {
   "cell_type": "code",
   "execution_count": null,
   "metadata": {},
   "outputs": [],
   "source": [
    "house_mat['agree'] = house_mat['cast_code_x'] == house_mat['cast_code_y']\n",
    "house_mat = house_mat.groupby(['icpsr_x', 'icpsr_y']).agg({'agree': 'mean'})\n",
    "house_mat = house_mat.reset_index()\n",
    "house_mat"
   ]
  },
  {
   "cell_type": "code",
   "execution_count": null,
   "metadata": {},
   "outputs": [],
   "source": [
    "ideo = ct.get_ideology()\n",
    "members = ideo[['bioname', 'icpsr','partycode']]\n",
    "members"
   ]
  },
  {
   "cell_type": "code",
   "execution_count": null,
   "metadata": {},
   "outputs": [],
   "source": [
    "agreement = pd.merge(house_mat, members, \n",
    "                     left_on = 'icpsr_x', \n",
    "                     right_on = 'icpsr')\n",
    "agreement = agreement.rename({'bioname':'member1',\n",
    "                              'party_code':'party1'}, axis=1)\n",
    "agreement = agreement.drop(['icspr_x'],axis=1)\n",
    "agreement = pd.merge(agreement, members,\n",
    "                     left_on = 'icspr_y',\n",
    "                     right_on = 'icpsr')\n",
    "agreement = agreement.rename({'bioname':'member2',\n",
    "                              'party_code':'party2'}, axis=1)\n",
    "agreement = agreement[['member1','party1','member2','party2','agree']]\n",
    "agreement"
   ]
  },
  {
   "cell_type": "code",
   "execution_count": null,
   "metadata": {},
   "outputs": [],
   "source": [
    "agreement[agreement['member1'].str.contains('GOOD,')].sort_values('agree', ascending = False).head(30)"
   ]
  }
 ],
 "metadata": {
  "kernelspec": {
   "display_name": "contrans_venv_3_12_5_92324",
   "language": "python",
   "name": "python3"
  },
  "language_info": {
   "codemirror_mode": {
    "name": "ipython",
    "version": 3
   },
   "file_extension": ".py",
   "mimetype": "text/x-python",
   "name": "python",
   "nbconvert_exporter": "python",
   "pygments_lexer": "ipython3",
   "version": "3.12.5"
  }
 },
 "nbformat": 4,
 "nbformat_minor": 2
}
