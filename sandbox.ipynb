{
 "cells": [
  {
   "cell_type": "code",
   "execution_count": 8,
   "metadata": {},
   "outputs": [],
   "source": [
    "from contrans import contrans\n",
    "import numpy as np\n",
    "import pandas as pd\n",
    "import dotenv\n",
    "import os\n",
    "import json\n"
   ]
  },
  {
   "cell_type": "code",
   "execution_count": 9,
   "metadata": {},
   "outputs": [
    {
     "data": {
      "text/plain": [
       "'EOgcH9FX3IuoGbMxriBzlyS4BQXbiPaXkVfEX7eG'"
      ]
     },
     "execution_count": 9,
     "metadata": {},
     "output_type": "execute_result"
    }
   ],
   "source": [
    "ct = contrans()\n",
    "ct.mypassword\n",
    "ct.congresskey"
   ]
  },
  {
   "cell_type": "code",
   "execution_count": 10,
   "metadata": {},
   "outputs": [
    {
     "data": {
      "text/plain": [
       "'python-requests/2.32.3'"
      ]
     },
     "execution_count": 10,
     "metadata": {},
     "output_type": "execute_result"
    }
   ],
   "source": [
    "useragent = ct.get_useragent()\n",
    "useragent\n"
   ]
  },
  {
   "cell_type": "code",
   "execution_count": 11,
   "metadata": {},
   "outputs": [
    {
     "data": {
      "text/plain": [
       "{'User-Agent': 'python-requests/2.32.3', 'From': 'mathaimadelyn@gmail.com'}"
      ]
     },
     "execution_count": 11,
     "metadata": {},
     "output_type": "execute_result"
    }
   ],
   "source": [
    "headers=ct.make_headers()\n",
    "headers"
   ]
  },
  {
   "cell_type": "code",
   "execution_count": 12,
   "metadata": {},
   "outputs": [
    {
     "name": "stdout",
     "output_type": "stream",
     "text": [
      "<bound method contrans.get_bioguideIDs of <contrans.contrans object at 0x11c86f320>>\n"
     ]
    }
   ],
   "source": [
    "print(ct.get_bioguideIDs)\n"
   ]
  },
  {
   "cell_type": "code",
   "execution_count": 13,
   "metadata": {},
   "outputs": [
    {
     "data": {
      "text/html": [
       "<div>\n",
       "<style scoped>\n",
       "    .dataframe tbody tr th:only-of-type {\n",
       "        vertical-align: middle;\n",
       "    }\n",
       "\n",
       "    .dataframe tbody tr th {\n",
       "        vertical-align: top;\n",
       "    }\n",
       "\n",
       "    .dataframe thead th {\n",
       "        text-align: right;\n",
       "    }\n",
       "</style>\n",
       "<table border=\"1\" class=\"dataframe\">\n",
       "  <thead>\n",
       "    <tr style=\"text-align: right;\">\n",
       "      <th></th>\n",
       "      <th>name</th>\n",
       "      <th>state</th>\n",
       "      <th>district</th>\n",
       "      <th>partyName</th>\n",
       "      <th>bioguideId</th>\n",
       "    </tr>\n",
       "  </thead>\n",
       "  <tbody>\n",
       "    <tr>\n",
       "      <th>0</th>\n",
       "      <td>McIver, LaMonica</td>\n",
       "      <td>New Jersey</td>\n",
       "      <td>10.0</td>\n",
       "      <td>Democratic</td>\n",
       "      <td>M001229</td>\n",
       "    </tr>\n",
       "    <tr>\n",
       "      <th>1</th>\n",
       "      <td>Evans, Daniel J.</td>\n",
       "      <td>Washington</td>\n",
       "      <td>NaN</td>\n",
       "      <td>Republican</td>\n",
       "      <td>E000236</td>\n",
       "    </tr>\n",
       "    <tr>\n",
       "      <th>2</th>\n",
       "      <td>Sasser, Jim</td>\n",
       "      <td>Tennessee</td>\n",
       "      <td>NaN</td>\n",
       "      <td>Democratic</td>\n",
       "      <td>S000068</td>\n",
       "    </tr>\n",
       "    <tr>\n",
       "      <th>3</th>\n",
       "      <td>Helmy, George S.</td>\n",
       "      <td>New Jersey</td>\n",
       "      <td>NaN</td>\n",
       "      <td>Democratic</td>\n",
       "      <td>H001097</td>\n",
       "    </tr>\n",
       "    <tr>\n",
       "      <th>4</th>\n",
       "      <td>Ruiz, Raul</td>\n",
       "      <td>California</td>\n",
       "      <td>25.0</td>\n",
       "      <td>Democratic</td>\n",
       "      <td>R000599</td>\n",
       "    </tr>\n",
       "    <tr>\n",
       "      <th>...</th>\n",
       "      <td>...</td>\n",
       "      <td>...</td>\n",
       "      <td>...</td>\n",
       "      <td>...</td>\n",
       "      <td>...</td>\n",
       "    </tr>\n",
       "    <tr>\n",
       "      <th>19</th>\n",
       "      <td>Flynt, John J., Jr.</td>\n",
       "      <td>Georgia</td>\n",
       "      <td>6.0</td>\n",
       "      <td>Democratic</td>\n",
       "      <td>F000229</td>\n",
       "    </tr>\n",
       "    <tr>\n",
       "      <th>20</th>\n",
       "      <td>Flowers, Walter</td>\n",
       "      <td>Alabama</td>\n",
       "      <td>7.0</td>\n",
       "      <td>Democratic</td>\n",
       "      <td>F000218</td>\n",
       "    </tr>\n",
       "    <tr>\n",
       "      <th>21</th>\n",
       "      <td>Florio, James J.</td>\n",
       "      <td>New Jersey</td>\n",
       "      <td>1.0</td>\n",
       "      <td>Democratic</td>\n",
       "      <td>F000215</td>\n",
       "    </tr>\n",
       "    <tr>\n",
       "      <th>22</th>\n",
       "      <td>Flood, Daniel J.</td>\n",
       "      <td>Pennsylvania</td>\n",
       "      <td>11.0</td>\n",
       "      <td>Democratic</td>\n",
       "      <td>F000209</td>\n",
       "    </tr>\n",
       "    <tr>\n",
       "      <th>23</th>\n",
       "      <td>Flippo, Ronnie G.</td>\n",
       "      <td>Alabama</td>\n",
       "      <td>5.0</td>\n",
       "      <td>Democratic</td>\n",
       "      <td>F000208</td>\n",
       "    </tr>\n",
       "  </tbody>\n",
       "</table>\n",
       "<p>2524 rows × 5 columns</p>\n",
       "</div>"
      ],
      "text/plain": [
       "                   name         state  district   partyName bioguideId\n",
       "0      McIver, LaMonica    New Jersey      10.0  Democratic    M001229\n",
       "1      Evans, Daniel J.    Washington       NaN  Republican    E000236\n",
       "2           Sasser, Jim     Tennessee       NaN  Democratic    S000068\n",
       "3      Helmy, George S.    New Jersey       NaN  Democratic    H001097\n",
       "4            Ruiz, Raul    California      25.0  Democratic    R000599\n",
       "..                  ...           ...       ...         ...        ...\n",
       "19  Flynt, John J., Jr.       Georgia       6.0  Democratic    F000229\n",
       "20      Flowers, Walter       Alabama       7.0  Democratic    F000218\n",
       "21     Florio, James J.    New Jersey       1.0  Democratic    F000215\n",
       "22     Flood, Daniel J.  Pennsylvania      11.0  Democratic    F000209\n",
       "23    Flippo, Ronnie G.       Alabama       5.0  Democratic    F000208\n",
       "\n",
       "[2524 rows x 5 columns]"
      ]
     },
     "execution_count": 13,
     "metadata": {},
     "output_type": "execute_result"
    }
   ],
   "source": [
    "bioguides = ct.get_bioguideIDs()\n",
    "bioguides"
   ]
  },
  {
   "cell_type": "code",
   "execution_count": 14,
   "metadata": {},
   "outputs": [
    {
     "ename": "NameError",
     "evalue": "name 'r' is not defined",
     "output_type": "error",
     "traceback": [
      "\u001b[0;31m---------------------------------------------------------------------------\u001b[0m",
      "\u001b[0;31mNameError\u001b[0m                                 Traceback (most recent call last)",
      "Cell \u001b[0;32mIn[14], line 1\u001b[0m\n\u001b[0;32m----> 1\u001b[0m json\u001b[38;5;241m.\u001b[39mloads(\u001b[43mr\u001b[49m\u001b[38;5;241m.\u001b[39mtext)[\u001b[38;5;124m'\u001b[39m\u001b[38;5;124mpagination\u001b[39m\u001b[38;5;124m'\u001b[39m]\n",
      "\u001b[0;31mNameError\u001b[0m: name 'r' is not defined"
     ]
    }
   ],
   "source": [
    "json.loads(r.text)['pagination']"
   ]
  },
  {
   "cell_type": "code",
   "execution_count": null,
   "metadata": {},
   "outputs": [],
   "source": [
    "votes = ct.get_votes()\n",
    "votes"
   ]
  },
  {
   "cell_type": "code",
   "execution_count": null,
   "metadata": {},
   "outputs": [],
   "source": [
    "house = house(['rollnumber', 'icpsr','cast_code'])"
   ]
  },
  {
   "cell_type": "code",
   "execution_count": null,
   "metadata": {},
   "outputs": [],
   "source": [
    "house_mat = pd.merge(house, house on = 'rollnumber')\n",
    "house_mat"
   ]
  },
  {
   "cell_type": "code",
   "execution_count": null,
   "metadata": {},
   "outputs": [],
   "source": [
    "house_mat['agree'] = house_mat['cast_code_x'] == house_mat['cast_code_y']\n",
    "house_mat = house_mat.groupby(['icpsr_x', 'icpsr_y']).agg({'agree': 'mean'})\n",
    "house_mat = house_mat.reset_index()\n",
    "house_mat"
   ]
  },
  {
   "cell_type": "code",
   "execution_count": null,
   "metadata": {},
   "outputs": [],
   "source": [
    "ideo = ct.get_ideology()\n",
    "members = ideo[['bioname', 'icpsr','partycode']]\n",
    "members"
   ]
  },
  {
   "cell_type": "code",
   "execution_count": null,
   "metadata": {},
   "outputs": [],
   "source": [
    "agreement = pd.merge(house_mat, members, \n",
    "                     left_on = 'icpsr_x', \n",
    "                     right_on = 'icpsr')\n",
    "agreement = agreement.rename({'bioname':'member1',\n",
    "                              'party_code':'party1'}, axis=1)\n",
    "agreement = agreement.drop(['icspr_x'],axis=1)\n",
    "agreement = pd.merge(agreement, members,\n",
    "                     left_on = 'icspr_y',\n",
    "                     right_on = 'icpsr')\n",
    "agreement = agreement.rename({'bioname':'member2',\n",
    "                              'party_code':'party2'}, axis=1)\n",
    "agreement = agreement[['member1','party1','member2','party2','agree']]\n",
    "agreement"
   ]
  },
  {
   "cell_type": "code",
   "execution_count": null,
   "metadata": {},
   "outputs": [],
   "source": [
    "agreement[agreement['member1'].str.contains('GOOD,')].sort_values('agree', ascending = False).head(30)"
   ]
  }
 ],
 "metadata": {
  "kernelspec": {
   "display_name": "Python 3",
   "language": "python",
   "name": "python3"
  },
  "language_info": {
   "codemirror_mode": {
    "name": "ipython",
    "version": 3
   },
   "file_extension": ".py",
   "mimetype": "text/x-python",
   "name": "python",
   "nbconvert_exporter": "python",
   "pygments_lexer": "ipython3",
   "version": "3.12.5"
  }
 },
 "nbformat": 4,
 "nbformat_minor": 2
}
