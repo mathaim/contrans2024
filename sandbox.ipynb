{
 "cells": [
  {
   "cell_type": "code",
   "execution_count": 1,
   "metadata": {},
   "outputs": [],
   "source": [
    "from contrans import contrans\n",
    "import numpy as np\n",
    "import pandas as pd\n",
    "import requests\n",
    "import dotenv\n",
    "import os\n",
    "import json\n",
    "from bs4 import BeautifulSoup\n"
   ]
  },
  {
   "cell_type": "code",
   "execution_count": 2,
   "metadata": {},
   "outputs": [],
   "source": [
    "ct = contrans()\n",
    "ct.mypassword\n",
    "congresskey= ct.congresskey"
   ]
  },
  {
   "cell_type": "code",
   "execution_count": 3,
   "metadata": {},
   "outputs": [
    {
     "data": {
      "text/plain": [
       "'python-requests/2.32.3'"
      ]
     },
     "execution_count": 3,
     "metadata": {},
     "output_type": "execute_result"
    }
   ],
   "source": [
    "useragent = ct.get_useragent()\n",
    "useragent\n"
   ]
  },
  {
   "cell_type": "code",
   "execution_count": 4,
   "metadata": {},
   "outputs": [
    {
     "data": {
      "text/plain": [
       "{'User-Agent': 'python-requests/2.32.3', 'From': 'mathaimadelyn@gmail.com'}"
      ]
     },
     "execution_count": 4,
     "metadata": {},
     "output_type": "execute_result"
    }
   ],
   "source": [
    "headers=ct.make_headers()\n",
    "headers"
   ]
  },
  {
   "cell_type": "code",
   "execution_count": 5,
   "metadata": {},
   "outputs": [
    {
     "name": "stdout",
     "output_type": "stream",
     "text": [
      "<bound method contrans.get_bioguideIDs of <contrans.contrans object at 0x1370e0500>>\n"
     ]
    }
   ],
   "source": [
    "print(ct.get_bioguideIDs)\n"
   ]
  },
  {
   "cell_type": "code",
   "execution_count": 6,
   "metadata": {},
   "outputs": [
    {
     "data": {
      "text/html": [
       "<div>\n",
       "<style scoped>\n",
       "    .dataframe tbody tr th:only-of-type {\n",
       "        vertical-align: middle;\n",
       "    }\n",
       "\n",
       "    .dataframe tbody tr th {\n",
       "        vertical-align: top;\n",
       "    }\n",
       "\n",
       "    .dataframe thead th {\n",
       "        text-align: right;\n",
       "    }\n",
       "</style>\n",
       "<table border=\"1\" class=\"dataframe\">\n",
       "  <thead>\n",
       "    <tr style=\"text-align: right;\">\n",
       "      <th></th>\n",
       "      <th>bioguideId</th>\n",
       "      <th>district</th>\n",
       "      <th>name</th>\n",
       "      <th>partyName</th>\n",
       "      <th>state</th>\n",
       "      <th>updateDate</th>\n",
       "      <th>url</th>\n",
       "      <th>depiction.attribution</th>\n",
       "      <th>depiction.imageUrl</th>\n",
       "      <th>terms.item</th>\n",
       "    </tr>\n",
       "  </thead>\n",
       "  <tbody>\n",
       "    <tr>\n",
       "      <th>0</th>\n",
       "      <td>G000595</td>\n",
       "      <td>5.0</td>\n",
       "      <td>good, bob</td>\n",
       "      <td>Republican</td>\n",
       "      <td>Virginia</td>\n",
       "      <td>2024-06-08T18:40:22Z</td>\n",
       "      <td>https://api.congress.gov/v3/member/G000595?for...</td>\n",
       "      <td>Image courtesy of the Member</td>\n",
       "      <td>https://www.congress.gov/img/member/g000595_20...</td>\n",
       "      <td>[{'chamber': 'House of Representatives', 'star...</td>\n",
       "    </tr>\n",
       "    <tr>\n",
       "      <th>1</th>\n",
       "      <td>G000280</td>\n",
       "      <td>5.0</td>\n",
       "      <td>goode, virgil h., jr.</td>\n",
       "      <td>Republican</td>\n",
       "      <td>Virginia</td>\n",
       "      <td>2022-12-16T21:56:51Z</td>\n",
       "      <td>https://api.congress.gov/v3/member/G000280?for...</td>\n",
       "      <td>Image, Congressional Pictorial Directory, 109th.</td>\n",
       "      <td>https://www.congress.gov/img/member/g000280_20...</td>\n",
       "      <td>[{'chamber': 'House of Representatives', 'endY...</td>\n",
       "    </tr>\n",
       "  </tbody>\n",
       "</table>\n",
       "</div>"
      ],
      "text/plain": [
       "  bioguideId  district                   name   partyName     state  \\\n",
       "0    G000595       5.0              good, bob  Republican  Virginia   \n",
       "1    G000280       5.0  goode, virgil h., jr.  Republican  Virginia   \n",
       "\n",
       "             updateDate                                                url  \\\n",
       "0  2024-06-08T18:40:22Z  https://api.congress.gov/v3/member/G000595?for...   \n",
       "1  2022-12-16T21:56:51Z  https://api.congress.gov/v3/member/G000280?for...   \n",
       "\n",
       "                              depiction.attribution  \\\n",
       "0                      Image courtesy of the Member   \n",
       "1  Image, Congressional Pictorial Directory, 109th.   \n",
       "\n",
       "                                  depiction.imageUrl  \\\n",
       "0  https://www.congress.gov/img/member/g000595_20...   \n",
       "1  https://www.congress.gov/img/member/g000280_20...   \n",
       "\n",
       "                                          terms.item  \n",
       "0  [{'chamber': 'House of Representatives', 'star...  \n",
       "1  [{'chamber': 'House of Representatives', 'endY...  "
      ]
     },
     "execution_count": 6,
     "metadata": {},
     "output_type": "execute_result"
    }
   ],
   "source": [
    "goodbioguide = ct.get_bioguide(name = 'good', state = 'Virginia', district = 5)\n",
    "goodbioguide"
   ]
  },
  {
   "cell_type": "code",
   "execution_count": 7,
   "metadata": {},
   "outputs": [
    {
     "data": {
      "text/html": [
       "<div>\n",
       "<style scoped>\n",
       "    .dataframe tbody tr th:only-of-type {\n",
       "        vertical-align: middle;\n",
       "    }\n",
       "\n",
       "    .dataframe tbody tr th {\n",
       "        vertical-align: top;\n",
       "    }\n",
       "\n",
       "    .dataframe thead th {\n",
       "        text-align: right;\n",
       "    }\n",
       "</style>\n",
       "<table border=\"1\" class=\"dataframe\">\n",
       "  <thead>\n",
       "    <tr style=\"text-align: right;\">\n",
       "      <th></th>\n",
       "      <th>index</th>\n",
       "      <th>bioguideId</th>\n",
       "    </tr>\n",
       "  </thead>\n",
       "  <tbody>\n",
       "    <tr>\n",
       "      <th>0</th>\n",
       "      <td>0</td>\n",
       "      <td>G000595</td>\n",
       "    </tr>\n",
       "    <tr>\n",
       "      <th>1</th>\n",
       "      <td>1</td>\n",
       "      <td>G000280</td>\n",
       "    </tr>\n",
       "  </tbody>\n",
       "</table>\n",
       "</div>"
      ],
      "text/plain": [
       "   index bioguideId\n",
       "0      0    G000595\n",
       "1      1    G000280"
      ]
     },
     "execution_count": 7,
     "metadata": {},
     "output_type": "execute_result"
    }
   ],
   "source": [
    "goodbioguide['bioguideId'].reset_index()"
   ]
  },
  {
   "cell_type": "code",
   "execution_count": 8,
   "metadata": {},
   "outputs": [],
   "source": [
    "goodid = goodbioguide['bioguideId'].reset_index()['bioguideId'][0]"
   ]
  },
  {
   "cell_type": "code",
   "execution_count": 9,
   "metadata": {},
   "outputs": [
    {
     "data": {
      "text/plain": [
       "'G000595'"
      ]
     },
     "execution_count": 9,
     "metadata": {},
     "output_type": "execute_result"
    }
   ],
   "source": [
    "goodid"
   ]
  },
  {
   "cell_type": "code",
   "execution_count": null,
   "metadata": {},
   "outputs": [],
   "source": []
  },
  {
   "cell_type": "code",
   "execution_count": null,
   "metadata": {},
   "outputs": [],
   "source": []
  },
  {
   "cell_type": "code",
   "execution_count": 10,
   "metadata": {},
   "outputs": [],
   "source": [
    "#Sponsored legislation\n",
    "goodsbills = ct.get_sponsoredlegislation(goodid)\n"
   ]
  },
  {
   "cell_type": "code",
   "execution_count": 11,
   "metadata": {},
   "outputs": [],
   "source": [
    "r = requests.get(goodsbills[0]['url'],\n",
    "                 params = {'api_key':congresskey}) #goodsbills[0]['url']\n",
    "\n",
    "texturl = json.loads(r.text)['bill']['textVersions']['url']\n",
    "\n",
    "\n",
    "r = requests.get(texturl,\n",
    "                 params= {'api_key':congresskey})\n",
    "json.loads(r.text)['textVersions'][0]['formats'][0]['url']\n",
    "\n",
    "toscrape = json.loads(r.text)['textVersions'][0]['formats'][0]['url']"
   ]
  },
  {
   "cell_type": "code",
   "execution_count": 12,
   "metadata": {},
   "outputs": [],
   "source": [
    "from bs4 import BeautifulSoup\n",
    "\n",
    "r = requests.get(toscrape)\n",
    "mysoup = BeautifulSoup(r.text, 'html.parser') #equivalent of json.loads, allows you to search through a string\n",
    "billtext = mysoup.text"
   ]
  },
  {
   "cell_type": "code",
   "execution_count": 13,
   "metadata": {},
   "outputs": [],
   "source": [
    "billurl = goodsbills[0]['url']"
   ]
  },
  {
   "cell_type": "code",
   "execution_count": 14,
   "metadata": {},
   "outputs": [
    {
     "ename": "NameError",
     "evalue": "name 'BeautifulSoup' is not defined",
     "output_type": "error",
     "traceback": [
      "\u001b[0;31m---------------------------------------------------------------------------\u001b[0m",
      "\u001b[0;31mNameError\u001b[0m                                 Traceback (most recent call last)",
      "Cell \u001b[0;32mIn[14], line 1\u001b[0m\n\u001b[0;32m----> 1\u001b[0m \u001b[43mct\u001b[49m\u001b[38;5;241;43m.\u001b[39;49m\u001b[43mget_billdata\u001b[49m\u001b[43m(\u001b[49m\u001b[43mbillurl\u001b[49m\u001b[43m)\u001b[49m\n",
      "File \u001b[0;32m~/Documents/data engineering 1/contrans2024/contrans.py:169\u001b[0m, in \u001b[0;36mcontrans.get_billdata\u001b[0;34m(self, billurl)\u001b[0m\n\u001b[1;32m    167\u001b[0m toscrape \u001b[38;5;241m=\u001b[39m json\u001b[38;5;241m.\u001b[39mloads(r\u001b[38;5;241m.\u001b[39mtext)[\u001b[38;5;124m'\u001b[39m\u001b[38;5;124mtextVersions\u001b[39m\u001b[38;5;124m'\u001b[39m][\u001b[38;5;241m0\u001b[39m][\u001b[38;5;124m'\u001b[39m\u001b[38;5;124mformats\u001b[39m\u001b[38;5;124m'\u001b[39m][\u001b[38;5;241m0\u001b[39m][\u001b[38;5;124m'\u001b[39m\u001b[38;5;124murl\u001b[39m\u001b[38;5;124m'\u001b[39m]\n\u001b[1;32m    168\u001b[0m r \u001b[38;5;241m=\u001b[39m requests\u001b[38;5;241m.\u001b[39mget(toscrape)\n\u001b[0;32m--> 169\u001b[0m mysoup \u001b[38;5;241m=\u001b[39m \u001b[43mBeautifulSoup\u001b[49m(r\u001b[38;5;241m.\u001b[39mtext, \u001b[38;5;124m'\u001b[39m\u001b[38;5;124mhtml.parser\u001b[39m\u001b[38;5;124m'\u001b[39m) \u001b[38;5;66;03m#equivalent of json.loads, allows you to search through a string\u001b[39;00m\n\u001b[1;32m    170\u001b[0m billtext \u001b[38;5;241m=\u001b[39m mysoup\u001b[38;5;241m.\u001b[39mtext\n\u001b[1;32m    171\u001b[0m bill_json[\u001b[38;5;124m'\u001b[39m\u001b[38;5;124mbill_text\u001b[39m\u001b[38;5;124m'\u001b[39m] \u001b[38;5;241m=\u001b[39m billtext\n",
      "\u001b[0;31mNameError\u001b[0m: name 'BeautifulSoup' is not defined"
     ]
    }
   ],
   "source": [
    "ct.get_billdata(billurl)"
   ]
  },
  {
   "cell_type": "code",
   "execution_count": null,
   "metadata": {},
   "outputs": [],
   "source": [
    "print(mysoup.text)"
   ]
  },
  {
   "cell_type": "code",
   "execution_count": null,
   "metadata": {},
   "outputs": [],
   "source": []
  },
  {
   "cell_type": "code",
   "execution_count": null,
   "metadata": {},
   "outputs": [],
   "source": [
    "votes = ct.get_votes()\n",
    "votes"
   ]
  },
  {
   "cell_type": "code",
   "execution_count": null,
   "metadata": {},
   "outputs": [],
   "source": [
    "house = house(['rollnumber', 'icpsr','cast_code'])"
   ]
  },
  {
   "cell_type": "code",
   "execution_count": null,
   "metadata": {},
   "outputs": [],
   "source": [
    "house_mat = pd.merge(house, house on = 'rollnumber')\n",
    "house_mat"
   ]
  },
  {
   "cell_type": "code",
   "execution_count": null,
   "metadata": {},
   "outputs": [],
   "source": [
    "house_mat['agree'] = house_mat['cast_code_x'] == house_mat['cast_code_y']\n",
    "house_mat = house_mat.groupby(['icpsr_x', 'icpsr_y']).agg({'agree': 'mean'})\n",
    "house_mat = house_mat.reset_index()\n",
    "house_mat"
   ]
  },
  {
   "cell_type": "code",
   "execution_count": null,
   "metadata": {},
   "outputs": [],
   "source": [
    "ideo = ct.get_ideology()\n",
    "members = ideo[['bioname', 'icpsr','partycode']]\n",
    "members"
   ]
  },
  {
   "cell_type": "code",
   "execution_count": null,
   "metadata": {},
   "outputs": [],
   "source": [
    "agreement = pd.merge(house_mat, members, \n",
    "                     left_on = 'icpsr_x', \n",
    "                     right_on = 'icpsr')\n",
    "agreement = agreement.rename({'bioname':'member1',\n",
    "                              'party_code':'party1'}, axis=1)\n",
    "agreement = agreement.drop(['icspr_x'],axis=1)\n",
    "agreement = pd.merge(agreement, members,\n",
    "                     left_on = 'icspr_y',\n",
    "                     right_on = 'icpsr')\n",
    "agreement = agreement.rename({'bioname':'member2',\n",
    "                              'party_code':'party2'}, axis=1)\n",
    "agreement = agreement[['member1','party1','member2','party2','agree']]\n",
    "agreement"
   ]
  },
  {
   "cell_type": "code",
   "execution_count": null,
   "metadata": {},
   "outputs": [],
   "source": [
    "agreement[agreement['member1'].str.contains('GOOD,')].sort_values('agree', ascending = False).head(30)"
   ]
  }
 ],
 "metadata": {
  "kernelspec": {
   "display_name": "Python 3",
   "language": "python",
   "name": "python3"
  },
  "language_info": {
   "codemirror_mode": {
    "name": "ipython",
    "version": 3
   },
   "file_extension": ".py",
   "mimetype": "text/x-python",
   "name": "python",
   "nbconvert_exporter": "python",
   "pygments_lexer": "ipython3",
   "version": "3.12.5"
  }
 },
 "nbformat": 4,
 "nbformat_minor": 2
}
